{
 "cells": [
  {
   "cell_type": "code",
   "execution_count": 1,
   "id": "67af7533",
   "metadata": {},
   "outputs": [],
   "source": [
    "import ipywidgets as widgets\n",
    "from IPython import display"
   ]
  },
  {
   "cell_type": "code",
   "execution_count": 2,
   "id": "c1e6e538-58ad-4766-b182-00205214caa0",
   "metadata": {},
   "outputs": [
    {
     "data": {
      "application/vnd.jupyter.widget-view+json": {
       "model_id": "ab58a668e1724df2bdec338bd564e850",
       "version_major": 2,
       "version_minor": 0
      },
      "text/plain": [
       "Button(style=ButtonStyle())"
      ]
     },
     "execution_count": 2,
     "metadata": {},
     "output_type": "execute_result"
    }
   ],
   "source": [
    "btn = widgets.Button()\n",
    "btn"
   ]
  },
  {
   "cell_type": "code",
   "execution_count": null,
   "id": "7fd3ca9d-1415-4273-b29b-bb18703303ec",
   "metadata": {},
   "outputs": [],
   "source": []
  }
 ],
 "metadata": {
  "kernelspec": {
   "display_name": "Python 3 (ipykernel)",
   "language": "python",
   "name": "python3"
  },
  "language_info": {
   "codemirror_mode": {
    "name": "ipython",
    "version": 3
   },
   "file_extension": ".py",
   "mimetype": "text/x-python",
   "name": "python",
   "nbconvert_exporter": "python",
   "pygments_lexer": "ipython3",
   "version": "3.13.2"
  }
 },
 "nbformat": 4,
 "nbformat_minor": 5
}
