{
 "cells": [
  {
   "cell_type": "code",
   "execution_count": 1,
   "id": "e1ecb036",
   "metadata": {},
   "outputs": [
    {
     "name": "stdout",
     "output_type": "stream",
     "text": [
      "Project root added to sys.path: c:\\Users\\Richard\\Desktop\\Notebooks\\IpyFormKit\n"
     ]
    },
    {
     "data": {
      "text/html": [
       "<style>.file-autocomplete {\n",
       "    --autocomplete-focus: none;\n",
       "}\n",
       "             \n",
       ".file-autocomplete:hover {\n",
       "    --autocomplete-focus: block;\n",
       "}\n",
       "             \n",
       ".suggestion-box{\n",
       "    width: 100%;\n",
       "    max-height: 150px;\n",
       "    overflow-y: auto;\n",
       "    overflow-x: hidden;\n",
       "    padding: 0px;\n",
       "    margin: 0px;\n",
       "    display: var(--autocomplete-focus);\n",
       "}\n",
       "             \n",
       ".autocomplete-suggestions {\n",
       "    width: 100%;\n",
       "    padding-left: 10px;\n",
       "    margin: 0px;\n",
       "    display: flex;\n",
       "    justify-content: flex-start;\n",
       "    border: none;\n",
       "    background-color: var(--jp-layout-color0);\n",
       "}\n",
       "                          \n",
       ".autocomplete-suggestions:hover {\n",
       "    background-color: var(--jp-layout-color1);\n",
       "}  </style>"
      ],
      "text/plain": [
       "<IPython.core.display.HTML object>"
      ]
     },
     "metadata": {},
     "output_type": "display_data"
    },
    {
     "data": {
      "text/html": [
       "<style>:root {\n",
       "    --ifk-form-border-color: var(--vscode-editorWidget-border, var(--jp-cell-editor-border-color));\n",
       "    --jp-widgets-input-background-color: var(--vscode-editorWidget-background, var(--jp-layout-color1));\n",
       "\n",
       "    --jp-widgets-color: var(--vscode-foreground, var(--jp-ui-font-color0));\n",
       "    --jp-widgets-input-color: var(--vscode-foreground, var(--jp-ui-font-color0));\n",
       "    --ifk-widget-label-color: var(--vscode-descriptionForeground, var(--jp-ui-font-color1));\n",
       "    --ifk-form-title-color: var(--vscode-disabledForeground, var(--jp-ui-font-color3));\n",
       "  }\n",
       "               \n",
       ".cell-output-ipywidget-background {\n",
       "  background-color: var(--vscode-editor-background) !important;\n",
       "  padding: var(--notebook-output-node-padding) 0 0 0 !important;\n",
       "  margin: 0;\n",
       "}\n",
       "\n",
       ".ifk-form {\n",
       "    padding: 10px;\n",
       "    border: 1px solid var(--ifk-form-border-color);\n",
       "}\n",
       "\n",
       ".ifk-form-title {\n",
       "    font-weight: bold;\n",
       "    font-style: italic;\n",
       "    font-size: 1.5em;\n",
       "    margin: 0px;\n",
       "    padding: 0px;\n",
       "    justify-content: end;\n",
       "    color: var(--ifk-form-title-color);\n",
       "}\n",
       "\n",
       ".ifk-widget-box {\n",
       "    padding: var(--jp-widgets-margin);\n",
       "    width:100%;\n",
       "}\n",
       "\n",
       ".ifk-form-toggle-button {\n",
       "    background-color: transparent;\n",
       "    color: var(--ifk-widget-label-color);\n",
       "}\n",
       "\n",
       ".ifk-widget-label {\n",
       "    margin: 0;\n",
       "    color: var(--ifk-widget-label-color)\n",
       "}\n",
       "\n",
       ".ifk-widget-input {\n",
       "    width: auto;\n",
       "    margin: 0;\n",
       "}\n",
       "\n",
       ".ifk-widget-Text {\n",
       "    width: 100%;\n",
       "}\n",
       "\n",
       ".ifk-widget-IntText,\n",
       ".ifk-widget-FloatText {\n",
       "    max-width: 180px;\n",
       "}\n",
       "\n",
       ".ifk-widget-Dropdown {\n",
       "    width: auto;\n",
       "}</style>"
      ],
      "text/plain": [
       "<IPython.core.display.HTML object>"
      ]
     },
     "metadata": {},
     "output_type": "display_data"
    }
   ],
   "source": [
    "import sys\n",
    "import os\n",
    "\n",
    "# Path to the folder containing ipyformkit (one level up from examples/)\n",
    "project_root = os.path.abspath(\"..\")\n",
    "if project_root not in sys.path:\n",
    "    sys.path.insert(0, project_root)\n",
    "\n",
    "print(f\"Project root added to sys.path: {project_root}\")\n",
    "# Try importing now\n",
    "import ipyformkit as ifk"
   ]
  },
  {
   "cell_type": "code",
   "execution_count": 2,
   "id": "3621976b",
   "metadata": {},
   "outputs": [
    {
     "data": {
      "application/vnd.jupyter.widget-view+json": {
       "model_id": "c16f4b9b8aff479aa6aad571cc598da3",
       "version_major": 2,
       "version_minor": 0
      },
      "text/plain": [
       "Button(description='Click me!', style=ButtonStyle(), _dom_classes=('text',))"
      ]
     },
     "metadata": {},
     "output_type": "display_data"
    }
   ],
   "source": [
    "import ipywidgets as widgets\n",
    "from IPython.display import display, HTML\n",
    "\n",
    "test = widgets.Button(description='Click me!')\n",
    "test.add_class('text')\n",
    "display(test)"
   ]
  },
  {
   "cell_type": "code",
   "execution_count": 8,
   "id": "6a7cb042",
   "metadata": {},
   "outputs": [],
   "source": [
    "from decimal import Decimal\n",
    "\n",
    "#=====================================================================\n",
    "def count_decimal_places(value: float) -> int:\n",
    "    # Convert via string to preserve user input formatting\n",
    "    d = Decimal(str(value)).normalize()\n",
    "    # Negative exponent means decimal places\n",
    "    return abs(d.as_tuple().exponent)\n",
    "    \n",
    "#=====================================================================\n",
    "def create_widget(key, value):\n",
    "    label = widgets.Label(value=key)\n",
    "    label.add_class('ifk-widget-label')\n",
    "    \n",
    "    box = widgets.VBox([label])\n",
    "    box.add_class('ifk-widget-box')\n",
    "    \n",
    "    if isinstance(value, bool):\n",
    "        wid = widgets.Checkbox(value=value, description=key, indent=False)\n",
    "        box.add_class('ifk-widget-Checkbox')\n",
    "        label.value = ''\n",
    "    elif isinstance(value, int):\n",
    "        wid = widgets.IntText(value=value)\n",
    "        box.add_class('ifk-widget-IntText')\n",
    "    elif isinstance(value, float):\n",
    "        step = 10**(-count_decimal_places(value))\n",
    "        wid = widgets.FloatText(value=value, step=step)\n",
    "        box.add_class('ifk-widget-FloatText')\n",
    "    elif isinstance(value, str):\n",
    "        if os.sep in value:\n",
    "            wid = ifk.FileAutocomplete(placeholder=value)\n",
    "            box.add_class('ifk-widget-FileAutocomplete')\n",
    "        else:\n",
    "            wid = widgets.Text(placeholder=value)\n",
    "            box.add_class('ifk-widget-Text')\n",
    "    elif isinstance(value, list):\n",
    "        if value:\n",
    "            wid = widgets.Dropdown(options=value, value=value[0])\n",
    "            box.add_class('ifk-widget-Dropdown')\n",
    "        else:\n",
    "            wid = widgets.Label(value=\"(Empty list - no options)\")\n",
    "            box.add_class('ifk-widget-Label')\n",
    "    else:\n",
    "        wid = widgets.Label(value=f\"Unsupported type: {type(value).__name__}\")\n",
    "        box.add_class('ifk-widget-Label')\n",
    "    \n",
    "    wid.add_class('ifk-widget-input')\n",
    "    box.children = list(box.children) + [wid,]\n",
    "    box.label = label\n",
    "    box.wid = wid\n",
    "    return box\n",
    "\n",
    "#=====================================================================\n",
    "def dict_to_form(input_dict, title=None, collapsed=None, nested=False):\n",
    "    widgets_list = []\n",
    "    widgets_dict = {}\n",
    "\n",
    "    if collapsed is None and title is not None:\n",
    "        title_widget = widgets.Label(value=title)\n",
    "        title_widget.add_class('ifk-form-title')\n",
    "        widgets_list.append(title_widget)\n",
    "\n",
    "    for key, value in input_dict.items():\n",
    "        hbox_items = []\n",
    "        \n",
    "        # Case: nested tuple group\n",
    "        if isinstance(key, tuple) and isinstance(value, tuple):\n",
    "            for sub_key, sub_val in zip(key, value):\n",
    "                wid = create_widget(sub_key, sub_val)\n",
    "                widgets_dict[sub_key] = wid\n",
    "                hbox_items.append(wid)\n",
    "\n",
    "        elif isinstance(value, dict):\n",
    "            # Case: nested dictionary group\n",
    "            sub_vbox, sub_widgets_dict = dict_to_form(value, title=key, collapsed=True, nested=True)\n",
    "            widgets_dict.update(sub_widgets_dict)\n",
    "            hbox_items.append(sub_vbox)\n",
    "            \n",
    "        else:\n",
    "            wid = create_widget(key, value)\n",
    "            widgets_dict[key] = wid\n",
    "            hbox_items.append(wid)\n",
    "            \n",
    "        hbox = widgets.HBox(hbox_items)\n",
    "        hbox.add_class('ifk-form-hbox')\n",
    "        widgets_list.append(hbox)\n",
    "        \n",
    "    if collapsed is not None:\n",
    "        vbox = ifk.CollapsibleVBox(widgets_list, title=title, collapsed=collapsed)\n",
    "        vbox.toggle_button.add_class('ifk-form-toggle-button')\n",
    "        vbox.label.add_class('ifk-widget-label')\n",
    "        vbox.layout.width = '100%'\n",
    "    else:\n",
    "        vbox = widgets.VBox(widgets_list)\n",
    "\n",
    "    if not nested: vbox.add_class('ifk-form')\n",
    "\n",
    "    return vbox, widgets_dict\n",
    "\n",
    "#=====================================================================\n",
    "class IpyForm(object):\n",
    "    def __init__(self, input_dict, title=None, collapsed=None, max_width=600,\n",
    "                 mandatory=None):\n",
    "        \n",
    "        self.input_dict = input_dict\n",
    "        self.title = title\n",
    "        self.collapsed = collapsed\n",
    "        self.mandatory = mandatory\n",
    "\n",
    "        self.vbox, self.widgets_dict = dict_to_form(input_dict, title=title, collapsed=collapsed)\n",
    "        self.vbox.layout.max_width = f'{max_width}px'\n",
    "\n",
    "        if isinstance(mandatory, dict):\n",
    "            for key, val in mandatory.items():\n",
    "                if val:\n",
    "                    wid = self.widgets_dict[key]\n",
    "                    wid.label.value = f\"{wid.label.value} *\"\n",
    "\n",
    "    def display(self):\n",
    "        display(self.vbox)\n",
    "\n",
    "    def get_values(self):\n",
    "        out = {key: wid.wid.value for key, wid in self.widgets_dict.items()}\n",
    "        if self.mandatory is not None:\n",
    "            for key, val in self.mandatory.items():\n",
    "                if val and out[key] == '':\n",
    "                    raise ValueError(f\"Mandatory field '{key}' is empty.\")\n",
    "        return out\n",
    "    "
   ]
  },
  {
   "cell_type": "code",
   "execution_count": 9,
   "id": "96868fa8",
   "metadata": {},
   "outputs": [
    {
     "data": {
      "application/vnd.jupyter.widget-view+json": {
       "model_id": "2d6ae05a232a4bdd9e3391b167cfda70",
       "version_major": 2,
       "version_minor": 0
      },
      "text/plain": [
       "VBox(children=(Label(value='Test Form', _dom_classes=('ifk-form-title',)), HBox(children=(VBox(children=(Label…"
      ]
     },
     "metadata": {},
     "output_type": "display_data"
    }
   ],
   "source": [
    "import ipyformkit as ifk\n",
    "\n",
    "test = {'first name':'John',\n",
    "        'last name':'Doe',\n",
    "        ('age', 'gender'):(42, ['male', 'female', 'non-binary']),\n",
    "        'height':1.82,\n",
    "        'date of birth':'01.01.1980',\n",
    "        ('input 1', 'input 2', 'input 3', 'input 4', 'input 5'):(1,2,3,4,5),\n",
    "        ('street', 'house'):('Baker Street', 42),\n",
    "        'additional info':{'hobby':'reading',\n",
    "                      'favorite color':'blue',\n",
    "                      'favorite food':'pizza',\n",
    "                      'favorite movie':'Inception',\n",
    "                      'favorite book':'1984'},\n",
    "       }\n",
    "\n",
    "mandatory = {'first name': True, 'last name': True, 'age':True}\n",
    "\n",
    "form = IpyForm(test, title='Test Form', mandatory=mandatory)\n",
    "form.display()"
   ]
  },
  {
   "cell_type": "code",
   "execution_count": 7,
   "id": "0cfaf848-17d2-4950-b9c0-519e0277eda7",
   "metadata": {},
   "outputs": [
    {
     "ename": "ValueError",
     "evalue": "Mandatory field 'first name' is empty.",
     "output_type": "error",
     "traceback": [
      "\u001b[31m---------------------------------------------------------------------------\u001b[39m",
      "\u001b[31mValueError\u001b[39m                                Traceback (most recent call last)",
      "\u001b[36mCell\u001b[39m\u001b[36m \u001b[39m\u001b[32mIn[7]\u001b[39m\u001b[32m, line 1\u001b[39m\n\u001b[32m----> \u001b[39m\u001b[32m1\u001b[39m \u001b[43mform\u001b[49m\u001b[43m.\u001b[49m\u001b[43mget_values\u001b[49m\u001b[43m(\u001b[49m\u001b[43m)\u001b[49m\n",
      "\u001b[36mCell\u001b[39m\u001b[36m \u001b[39m\u001b[32mIn[5]\u001b[39m\u001b[32m, line 127\u001b[39m, in \u001b[36mIpyForm.get_values\u001b[39m\u001b[34m(self)\u001b[39m\n\u001b[32m    125\u001b[39m     \u001b[38;5;28;01mfor\u001b[39;00m key, val \u001b[38;5;129;01min\u001b[39;00m \u001b[38;5;28mself\u001b[39m.mandatory.items():\n\u001b[32m    126\u001b[39m         \u001b[38;5;28;01mif\u001b[39;00m val \u001b[38;5;129;01mand\u001b[39;00m out[key] == \u001b[33m'\u001b[39m\u001b[33m'\u001b[39m:\n\u001b[32m--> \u001b[39m\u001b[32m127\u001b[39m             \u001b[38;5;28;01mraise\u001b[39;00m \u001b[38;5;167;01mValueError\u001b[39;00m(\u001b[33mf\u001b[39m\u001b[33m\"\u001b[39m\u001b[33mMandatory field \u001b[39m\u001b[33m'\u001b[39m\u001b[38;5;132;01m{\u001b[39;00mkey\u001b[38;5;132;01m}\u001b[39;00m\u001b[33m'\u001b[39m\u001b[33m is empty.\u001b[39m\u001b[33m\"\u001b[39m)\n\u001b[32m    128\u001b[39m \u001b[38;5;28;01mreturn\u001b[39;00m out\n",
      "\u001b[31mValueError\u001b[39m: Mandatory field 'first name' is empty."
     ]
    }
   ],
   "source": [
    "form.get_values()"
   ]
  }
 ],
 "metadata": {
  "kernelspec": {
   "display_name": "Python 3 (ipykernel)",
   "language": "python",
   "name": "python3"
  },
  "language_info": {
   "codemirror_mode": {
    "name": "ipython",
    "version": 3
   },
   "file_extension": ".py",
   "mimetype": "text/x-python",
   "name": "python",
   "nbconvert_exporter": "python",
   "pygments_lexer": "ipython3",
   "version": "3.13.2"
  }
 },
 "nbformat": 4,
 "nbformat_minor": 5
}
