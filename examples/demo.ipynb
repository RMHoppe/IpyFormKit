{
 "cells": [
  {
   "cell_type": "code",
   "execution_count": 7,
   "id": "e1ecb036",
   "metadata": {},
   "outputs": [
    {
     "name": "stdout",
     "output_type": "stream",
     "text": [
      "Project root added to sys.path: c:\\Users\\Richard\\Desktop\\Notebooks\\IpyFormKit\n"
     ]
    }
   ],
   "source": [
    "import sys\n",
    "import os\n",
    "\n",
    "# Path to the folder containing ipyformkit (one level up from examples/)\n",
    "project_root = os.path.abspath(\"..\")\n",
    "if project_root not in sys.path:\n",
    "    sys.path.insert(0, project_root)\n",
    "\n",
    "print(f\"Project root added to sys.path: {project_root}\")\n",
    "# Try importing now\n",
    "import ipyformkit as ifk"
   ]
  },
  {
   "cell_type": "code",
   "execution_count": 8,
   "id": "3621976b",
   "metadata": {},
   "outputs": [
    {
     "data": {
      "application/vnd.jupyter.widget-view+json": {
       "model_id": "608152859f1240ba864b3deac239eea1",
       "version_major": 2,
       "version_minor": 0
      },
      "text/plain": [
       "Button(description='Click me!', style=ButtonStyle(), _dom_classes=('text',))"
      ]
     },
     "metadata": {},
     "output_type": "display_data"
    }
   ],
   "source": [
    "import ipywidgets as widgets\n",
    "from IPython.display import display, HTML\n",
    "\n",
    "test = widgets.Button(description='Click me!')\n",
    "test.add_class('text')\n",
    "display(test)"
   ]
  },
  {
   "cell_type": "code",
   "execution_count": null,
   "id": "6a7cb042",
   "metadata": {},
   "outputs": [],
   "source": [
    "\n",
    "    "
   ]
  },
  {
   "cell_type": "code",
   "execution_count": null,
   "id": "96868fa8",
   "metadata": {},
   "outputs": [
    {
     "data": {
      "application/vnd.jupyter.widget-view+json": {
       "model_id": "fbf41d1487b24a889685af9acd9c92c9",
       "version_major": 2,
       "version_minor": 0
      },
      "text/plain": [
       "VBox(children=(Label(value='Test Form', _dom_classes=('ifk-form-title',)), HBox(children=(VBox(children=(Label…"
      ]
     },
     "metadata": {},
     "output_type": "display_data"
    }
   ],
   "source": [
    "import ipyformkit as ifk\n",
    "\n",
    "test = {'first name':'John',\n",
    "        'last name':'Doe',\n",
    "        ('age', 'gender'):(-42, ('male', 'female', 'non-binary')),\n",
    "        'height':1.82,\n",
    "        'date of birth':'01.01.1980',\n",
    "        ('input 1', 'input 2', 'input 3', 'input 4', 'input 5'):(1,2,3,4,5),\n",
    "        ('street', 'house'):('Baker Street', 42),\n",
    "        'additional info':{'hobbies':'reading, running...',},\n",
    "        'submit':None,\n",
    "       }\n",
    "\n",
    "mandatory = {'first name': True, 'last name': True, 'age':True}\n",
    "disable = {'last name': lambda d: d['first name'] == '',}\n",
    "hide = {'house': lambda d: d['street'] == '',}\n",
    "check = {'age': lambda d: d['age'] > 0,}\n",
    "\n",
    "form = ifk.Form(test, title='Test Form', mandatory=mandatory, disable=disable, hide=hide, check=check)\n",
    "form.display()"
   ]
  },
  {
   "cell_type": "code",
   "execution_count": 11,
   "id": "0cfaf848-17d2-4950-b9c0-519e0277eda7",
   "metadata": {},
   "outputs": [
    {
     "data": {
      "application/vnd.jupyter.widget-view+json": {
       "model_id": "91e45b7b392f4aff8b5a39f699dc264e",
       "version_major": 2,
       "version_minor": 0
      },
      "text/plain": [
       "VBox(children=(Label(value='User Registration Form', _dom_classes=('ifk-form-title',)), HBox(children=(VBox(ch…"
      ]
     },
     "metadata": {},
     "output_type": "display_data"
    }
   ],
   "source": [
    "import ipyformkit as ifk\n",
    "\n",
    "example_data = {\n",
    "    'username': 'user123',\n",
    "    'password': '',\n",
    "    'confirm password': '',\n",
    "    'email': 'user@example.com',\n",
    "    'subscribe to newsletter': True,\n",
    "    'newsletter frequency': ('Daily', 'Weekly', 'Monthly'),\n",
    "    'address': '',\n",
    "    ('city', 'state', 'zip code'): ('', '', ''),\n",
    "    'additional info': {'comments': 'Enter your comments here...'},\n",
    "}\n",
    "\n",
    "disable_conditions = {\n",
    "    'confirm password': lambda d: d['password'] == '',\n",
    "    'newsletter frequency': lambda d: not d['subscribe to newsletter'],\n",
    "}\n",
    "\n",
    "hide_conditions = {\n",
    "    'city': lambda d: d['address'] == '',\n",
    "    'state': lambda d: d['address'] == '',\n",
    "    'zip code': lambda d: d['address'] == '',\n",
    "}\n",
    "\n",
    "form = IpyForm(\n",
    "    example_data,\n",
    "    title='User Registration Form',\n",
    "    mandatory={'username': True, 'password': True, 'email': True},\n",
    "    disable=disable_conditions,\n",
    "    hide=hide_conditions,\n",
    ")\n",
    "\n",
    "form.display()"
   ]
  },
  {
   "cell_type": "code",
   "execution_count": 12,
   "id": "4d0c3b5b",
   "metadata": {},
   "outputs": [
    {
     "data": {
      "application/vnd.jupyter.widget-view+json": {
       "model_id": "40bd7e4cc9874f7b9f092912315c70ad",
       "version_major": 2,
       "version_minor": 0
      },
      "text/plain": [
       "Text(value='', description='Submit')"
      ]
     },
     "metadata": {},
     "output_type": "display_data"
    }
   ],
   "source": [
    "btn = widgets.Text(description='Submit')\n",
    "display(btn)"
   ]
  }
 ],
 "metadata": {
  "kernelspec": {
   "display_name": "Python 3 (ipykernel)",
   "language": "python",
   "name": "python3"
  },
  "language_info": {
   "codemirror_mode": {
    "name": "ipython",
    "version": 3
   },
   "file_extension": ".py",
   "mimetype": "text/x-python",
   "name": "python",
   "nbconvert_exporter": "python",
   "pygments_lexer": "ipython3",
   "version": "3.13.2"
  }
 },
 "nbformat": 4,
 "nbformat_minor": 5
}
