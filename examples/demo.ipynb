{
 "cells": [
  {
   "cell_type": "code",
   "execution_count": 1,
   "id": "e1ecb036",
   "metadata": {},
   "outputs": [
    {
     "name": "stdout",
     "output_type": "stream",
     "text": [
      "Project root added to sys.path: /Users/hoppe/Documents/Notebooks/IpyFormKit\n"
     ]
    },
    {
     "data": {
      "text/html": [
       "<style>.file-autocomplete {\n",
       "    --autocomplete-focus: none;\n",
       "}\n",
       "             \n",
       ".file-autocomplete:hover {\n",
       "    --autocomplete-focus: block;\n",
       "}\n",
       "             \n",
       ".suggestion-box{\n",
       "    width: 100%;\n",
       "    max-height: 150px;\n",
       "    overflow-y: auto;\n",
       "    overflow-x: hidden;\n",
       "    padding: 0px;\n",
       "    margin: 0px;\n",
       "    display: var(--autocomplete-focus);\n",
       "}\n",
       "             \n",
       ".autocomplete-suggestions {\n",
       "    width: 100%;\n",
       "    padding-left: 10px;\n",
       "    margin: 0px;\n",
       "    display: flex;\n",
       "    justify-content: flex-start;\n",
       "    border: none;\n",
       "    background-color: var(--jp-layout-color0);\n",
       "}\n",
       "                          \n",
       ".autocomplete-suggestions:hover {\n",
       "    background-color: var(--jp-layout-color1);\n",
       "}  </style>"
      ],
      "text/plain": [
       "<IPython.core.display.HTML object>"
      ]
     },
     "metadata": {},
     "output_type": "display_data"
    },
    {
     "data": {
      "text/html": [
       "<style>:root {\n",
       "    --ifk-layout-color0: var(--vscode-editor-background, var(--jp-layout-color0));\n",
       "    --ifk-layout-color1: var(--vscode-editorWidget-background, var(--jp-layout-color1));\n",
       "    --ifk-layout-color2: var(--vscode-descriptionForeground, var(--jp-layout-color2));\n",
       "    --ifk-layout-color3: var(--vscode-editorWidget-border, var(--jp-cell-editor-border-color));\n",
       "    \n",
       "    --ifk-form-border-color: var(--vscode-editorWidget-border, var(--jp-cell-editor-border-color));\n",
       "    --ifk-widget-input-color: var(--vscode-foreground, var(--jp-ui-font-color0));\n",
       "    --ifk-widget-label-color: var(--vscode-descriptionForeground, var(--jp-ui-font-color1));\n",
       "    --ifk-form-title-color: var(--vscode-disabledForeground, var(--jp-ui-font-color3));\n",
       "  }\n",
       "               \n",
       ".cell-output-ipywidget-background {\n",
       "  background-color: var(--ifk-layout-color0) !important;\n",
       "  padding: var(--notebook-output-node-padding) 0 0 0 !important;\n",
       "  margin: 0;\n",
       "}\n",
       "\n",
       ".ifk-form {\n",
       "    padding: 10px;\n",
       "    border: 1px solid var(--ifk-form-border-color);\n",
       "}\n",
       "\n",
       ".ifk-form-title {\n",
       "    font-weight: bold;\n",
       "    font-style: italic;\n",
       "    font-size: 1.5em;\n",
       "    margin: 0px;\n",
       "    padding: 0px;\n",
       "    justify-content: end;\n",
       "    text-align: right;;\n",
       "    color: var(--ifk-form-title-color);\n",
       "}\n",
       "\n",
       ".ifk-widget-box {\n",
       "    padding: var(--jp-widgets-margin);\n",
       "    width:100%;\n",
       "}\n",
       "\n",
       ".ifk-form-toggle-button {\n",
       "    background-color: transparent;\n",
       "    color: var(--ifk-widget-label-color);\n",
       "}\n",
       "\n",
       ".ifk-widget-label {\n",
       "    margin: 0;\n",
       "    color: var(--ifk-widget-label-color)\n",
       "}\n",
       "\n",
       ".ifk-widget-input {\n",
       "    width: auto;\n",
       "    margin: 0;\n",
       "    color: var(--ifk-widget-input-color);\n",
       "    border: 1px solid var(--ifk-layout-color2);\n",
       "    background-color: var(--ifk-layout-color1);\n",
       "}\n",
       "\n",
       ".ifk-widget-input-error {\n",
       "    background-color: rgba(255, 0, 0, 0.25);\n",
       "}\n",
       "\n",
       ".ifk-widget-input-missing {\n",
       "    border: 1px solid rgba(255, 0, 0, 0.75);\n",
       "}\n",
       "\n",
       ".ifk-widget-input input {\n",
       "    color: inherit !important;\n",
       "    background-color: transparent !important;\n",
       "    border: none !important;\n",
       "}\n",
       "\n",
       ".ifk-widget-Button {\n",
       "    background-color: var(--ifk-layout-color3);\n",
       "}\n",
       "\n",
       ".ifk-widget-Button:hover {\n",
       "    background-color: var(--ifk-layout-color2);\n",
       "}\n",
       "\n",
       ".ifk-widget-Button:active {\n",
       "    background-color: var(--ifk-layout-color2);\n",
       "}\n",
       "\n",
       ".ifk-widget-Text,\n",
       ".ifk-widget-Textarea,\n",
       ".ifk-widget-Password {\n",
       "    width: 100%;\n",
       "}\n",
       "\n",
       ".ifk-widget-IntText,\n",
       ".ifk-widget-FloatText {\n",
       "    max-width: 180px;\n",
       "}\n",
       "\n",
       ".ifk-widget-Dropdown {\n",
       "    width: auto;\n",
       "}</style>"
      ],
      "text/plain": [
       "<IPython.core.display.HTML object>"
      ]
     },
     "metadata": {},
     "output_type": "display_data"
    },
    {
     "data": {
      "application/javascript": [
       "\n",
       "setTimeout(() => {\n",
       "    document.body.offsetHeight; // trigger reflow\n",
       "}, 10);\n"
      ],
      "text/plain": [
       "<IPython.core.display.Javascript object>"
      ]
     },
     "metadata": {},
     "output_type": "display_data"
    }
   ],
   "source": [
    "import sys\n",
    "import os\n",
    "\n",
    "# Path to the folder containing ipyformkit (one level up from examples/)\n",
    "project_root = os.path.abspath(\"..\")\n",
    "if project_root not in sys.path:\n",
    "    sys.path.insert(0, project_root)\n",
    "\n",
    "print(f\"Project root added to sys.path: {project_root}\")\n",
    "# Try importing now\n",
    "import ipyformkit as ifk"
   ]
  },
  {
   "cell_type": "code",
   "execution_count": 2,
   "id": "3621976b",
   "metadata": {},
   "outputs": [
    {
     "data": {
      "application/vnd.jupyter.widget-view+json": {
       "model_id": "efde361ee0d34b9ba641726973f8186d",
       "version_major": 2,
       "version_minor": 0
      },
      "text/plain": [
       "Button(description='Click me!', style=ButtonStyle(), _dom_classes=('text',))"
      ]
     },
     "metadata": {},
     "output_type": "display_data"
    }
   ],
   "source": [
    "import ipywidgets as widgets\n",
    "from IPython.display import display, HTML\n",
    "\n",
    "test = widgets.Button(description='Click me!')\n",
    "test.add_class('text')\n",
    "display(test)"
   ]
  },
  {
   "cell_type": "code",
   "execution_count": 3,
   "id": "96868fa8",
   "metadata": {},
   "outputs": [
    {
     "data": {
      "application/vnd.jupyter.widget-view+json": {
       "model_id": "598f15934f1f4697b55e86bf32a6a8bb",
       "version_major": 2,
       "version_minor": 0
      },
      "text/plain": [
       "VBox(children=(Label(value='Test Form', _dom_classes=('ifk-form-title',)), HBox(children=(VBox(children=(Label…"
      ]
     },
     "metadata": {},
     "output_type": "display_data"
    }
   ],
   "source": [
    "import ipyformkit as ifk\n",
    "\n",
    "test = {'first name':'John',\n",
    "        'last name':'Doe',\n",
    "        ('age', 'gender'):(-42, ('male', 'female', 'non-binary')),\n",
    "        'height':1.82,\n",
    "        'date of birth':'01.01.1980',\n",
    "        ('input 1', 'input 2', 'input 3', 'input 4', 'input 5'):(1,2,3,4,5),\n",
    "        ('street', 'house'):('Baker Street', 42),\n",
    "        'additional info':{'hobbies':'reading, running...',},\n",
    "        'submit':None,\n",
    "       }\n",
    "\n",
    "mandatory = {'first name': True, 'last name': True, 'age':True}\n",
    "disable = {'last name': lambda d: d['first name'] == '',}\n",
    "hide = {'house': lambda d: d['street'] == '',}\n",
    "check = {'age': lambda d: d['age'] > 0,}\n",
    "\n",
    "form = ifk.Form(test, title='Test Form', mandatory=mandatory, disable=disable, hide=hide, check=check)\n",
    "form.display()"
   ]
  },
  {
   "cell_type": "code",
   "execution_count": 4,
   "id": "9a9076e7-75a5-453c-a49a-a2824374a4c2",
   "metadata": {},
   "outputs": [
    {
     "name": "stdout",
     "output_type": "stream",
     "text": [
      "Mandatory field 'first name' is empty.\n",
      "Mandatory field 'last name' is empty.\n",
      "Invalid input in field 'age'.\n"
     ]
    }
   ],
   "source": [
    "form.check_and_return_values()"
   ]
  },
  {
   "cell_type": "code",
   "execution_count": 5,
   "id": "de3e5347-774d-40c7-9428-05a602d8066d",
   "metadata": {},
   "outputs": [
    {
     "data": {
      "text/plain": [
       "<function __main__.<lambda>(d)>"
      ]
     },
     "execution_count": 5,
     "metadata": {},
     "output_type": "execute_result"
    }
   ],
   "source": [
    "form.check_conditions[form.widgets_dict['age']]"
   ]
  },
  {
   "cell_type": "code",
   "execution_count": 6,
   "id": "d64d450d-7f56-4d99-bdff-aea0f5f7ddd0",
   "metadata": {},
   "outputs": [
    {
     "data": {
      "text/plain": [
       "{'first name': VBox(children=(Label(value='first name', _dom_classes=('ifk-widget-label',)), Text(value='', placeholder='John', _dom_classes=('ifk-widget-input', 'ifk-widget-input-missing'))), _dom_classes=('ifk-widget-box', 'ifk-widget-Text')),\n",
       " 'last name': VBox(children=(Label(value='last name', _dom_classes=('ifk-widget-label',)), Text(value='', disabled=True, placeholder='Doe', _dom_classes=('ifk-widget-input', 'ifk-widget-input-missing'))), _dom_classes=('ifk-widget-box', 'ifk-widget-Text')),\n",
       " 'age': VBox(children=(Label(value='age', _dom_classes=('ifk-widget-label',)), IntText(value=-42, _dom_classes=('ifk-widget-input', 'ifk-widget-input-error'))), _dom_classes=('ifk-widget-box', 'ifk-widget-IntText')),\n",
       " 'gender': VBox(children=(Label(value='gender', _dom_classes=('ifk-widget-label',)), Dropdown(_dom_classes=('ifk-widget-input',), options=('male', 'female', 'non-binary'), value='male')), _dom_classes=('ifk-widget-box', 'ifk-widget-Dropdown')),\n",
       " 'height': VBox(children=(Label(value='height', _dom_classes=('ifk-widget-label',)), FloatText(value=1.82, step=0.01, _dom_classes=('ifk-widget-input',))), _dom_classes=('ifk-widget-box', 'ifk-widget-FloatText')),\n",
       " 'date of birth': VBox(children=(Label(value='date of birth', _dom_classes=('ifk-widget-label',)), Text(value='', placeholder='01.01.1980', _dom_classes=('ifk-widget-input',))), _dom_classes=('ifk-widget-box', 'ifk-widget-Text')),\n",
       " 'input 1': VBox(children=(Label(value='input 1', _dom_classes=('ifk-widget-label',)), IntText(value=1, _dom_classes=('ifk-widget-input',))), _dom_classes=('ifk-widget-box', 'ifk-widget-IntText')),\n",
       " 'input 2': VBox(children=(Label(value='input 2', _dom_classes=('ifk-widget-label',)), IntText(value=2, _dom_classes=('ifk-widget-input',))), _dom_classes=('ifk-widget-box', 'ifk-widget-IntText')),\n",
       " 'input 3': VBox(children=(Label(value='input 3', _dom_classes=('ifk-widget-label',)), IntText(value=3, _dom_classes=('ifk-widget-input',))), _dom_classes=('ifk-widget-box', 'ifk-widget-IntText')),\n",
       " 'input 4': VBox(children=(Label(value='input 4', _dom_classes=('ifk-widget-label',)), IntText(value=4, _dom_classes=('ifk-widget-input',))), _dom_classes=('ifk-widget-box', 'ifk-widget-IntText')),\n",
       " 'input 5': VBox(children=(Label(value='input 5', _dom_classes=('ifk-widget-label',)), IntText(value=5, _dom_classes=('ifk-widget-input',))), _dom_classes=('ifk-widget-box', 'ifk-widget-IntText')),\n",
       " 'street': VBox(children=(Label(value='street', _dom_classes=('ifk-widget-label',)), Text(value='', placeholder='Baker Street', _dom_classes=('ifk-widget-input',))), _dom_classes=('ifk-widget-box', 'ifk-widget-Text')),\n",
       " 'house': VBox(children=(Label(value='house', _dom_classes=('ifk-widget-label',)), IntText(value=42, _dom_classes=('ifk-widget-input',))), layout=Layout(display='none'), _dom_classes=('ifk-widget-box', 'ifk-widget-IntText')),\n",
       " 'hobbies': VBox(children=(Label(value='hobbies', _dom_classes=('ifk-widget-label',)), Textarea(value='', placeholder='reading, running', _dom_classes=('ifk-widget-input',))), _dom_classes=('ifk-widget-box', 'ifk-widget-Textarea')),\n",
       " 'submit': VBox(children=(Label(value='', _dom_classes=('ifk-widget-label',)), Button(description='submit', style=ButtonStyle(), _dom_classes=('ifk-widget-Button', 'ifk-widget-input'))), _dom_classes=('ifk-widget-box',))}"
      ]
     },
     "execution_count": 6,
     "metadata": {},
     "output_type": "execute_result"
    }
   ],
   "source": [
    "form.widgets_dict"
   ]
  },
  {
   "cell_type": "code",
   "execution_count": 7,
   "id": "0cfaf848-17d2-4950-b9c0-519e0277eda7",
   "metadata": {},
   "outputs": [
    {
     "data": {
      "application/vnd.jupyter.widget-view+json": {
       "model_id": "2db401e9e6b84e64b7fa27bb8c186156",
       "version_major": 2,
       "version_minor": 0
      },
      "text/plain": [
       "VBox(children=(Label(value='User Registration Form', _dom_classes=('ifk-form-title',)), HBox(children=(VBox(ch…"
      ]
     },
     "metadata": {},
     "output_type": "display_data"
    }
   ],
   "source": [
    "import ipyformkit as ifk\n",
    "\n",
    "example_data = {\n",
    "    'username': 'user123',\n",
    "    'password': '',\n",
    "    'confirm password': '',\n",
    "    'email': 'user@example.com',\n",
    "    'subscribe to newsletter': True,\n",
    "    'newsletter frequency': ('Daily', 'Weekly', 'Monthly'),\n",
    "    'address': '',\n",
    "    ('city', 'state', 'zip code'): ('', '', ''),\n",
    "    'additional info': {'comments': 'Enter your comments here...'},\n",
    "}\n",
    "\n",
    "disable_conditions = {\n",
    "    'confirm password': lambda d: d['password'] == '',\n",
    "    'newsletter frequency': lambda d: not d['subscribe to newsletter'],\n",
    "}\n",
    "\n",
    "hide_conditions = {\n",
    "    'city': lambda d: d['address'] == '',\n",
    "    'state': lambda d: d['address'] == '',\n",
    "    'zip code': lambda d: d['address'] == '',\n",
    "}\n",
    "\n",
    "form = ifk.Form(\n",
    "    example_data,\n",
    "    title='User Registration Form',\n",
    "    mandatory={'username': True, 'password': True, 'email': True},\n",
    "    disable=disable_conditions,\n",
    "    hide=hide_conditions,\n",
    ")\n",
    "\n",
    "form.display()"
   ]
  },
  {
   "cell_type": "code",
   "execution_count": 8,
   "id": "4d0c3b5b",
   "metadata": {},
   "outputs": [
    {
     "data": {
      "application/vnd.jupyter.widget-view+json": {
       "model_id": "8788e3ccf57344dd841b8b970e2206c1",
       "version_major": 2,
       "version_minor": 0
      },
      "text/plain": [
       "Text(value='', description='Submit')"
      ]
     },
     "metadata": {},
     "output_type": "display_data"
    }
   ],
   "source": [
    "btn = widgets.Text(description='Submit')\n",
    "display(btn)"
   ]
  }
 ],
 "metadata": {
  "kernelspec": {
   "display_name": "Python 3 (ipykernel)",
   "language": "python",
   "name": "python3"
  },
  "language_info": {
   "codemirror_mode": {
    "name": "ipython",
    "version": 3
   },
   "file_extension": ".py",
   "mimetype": "text/x-python",
   "name": "python",
   "nbconvert_exporter": "python",
   "pygments_lexer": "ipython3",
   "version": "3.7.13"
  }
 },
 "nbformat": 4,
 "nbformat_minor": 5
}
