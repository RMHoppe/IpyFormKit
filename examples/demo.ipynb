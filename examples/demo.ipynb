{
 "cells": [
  {
   "cell_type": "code",
   "execution_count": null,
   "id": "e1ecb036",
   "metadata": {},
   "outputs": [],
   "source": [
    "import sys\n",
    "import os\n",
    "\n",
    "# Path to the folder containing ipyformkit (one level up from examples/)\n",
    "project_root = os.path.abspath(\"..\")\n",
    "if project_root not in sys.path:\n",
    "    sys.path.insert(0, project_root)\n",
    "\n",
    "print(f\"Project root added to sys.path: {project_root}\")\n",
    "# Try importing now\n",
    "from src import ipyformkit as ifk"
   ]
  },
  {
   "cell_type": "code",
   "execution_count": null,
   "id": "96868fa8",
   "metadata": {},
   "outputs": [],
   "source": [
    "test = {('first name', 'check'):('Zaphod',True),\n",
    "        ('last name', 'very very long label'):('Beeblebrox',('a', 'b')),\n",
    "        ('age', 'gender'):(-200, ('two-headed', 'male', 'female', 'non-binary')),\n",
    "        'height':2.05,\n",
    "        'date of birth':'Unknown (he probably lied about it anyway)',\n",
    "        ('Input 1', 'Input 2', 'Input 3', 'Input 4'):('president', 'of', 'the', 'galaxy'),\n",
    "        ('street', 'house'):('Heart of Gold Spaceship', 42),\n",
    "        'Button': None,\n",
    "        'additional info':{'hobbies':'Kidnapping himself, avoiding responsibility, being outrageous...',\n",
    "                           'dietary restrictions':'allergic to pangalactic gargle blasters'},\n",
    "       }\n",
    "\n",
    "\n",
    "mandatory = ['last name', 'age']\n",
    "disable = {'last name': lambda d: d['first name'] == '',}\n",
    "hide = {'house': lambda d: d['street'] == '',}\n",
    "check = {'age': lambda d: d['age'] > 0,}\n",
    "tooltips = {'first name':'What your mother calls you, when you are in trouble.'}\n",
    "\n",
    "form = ifk.Form(test, title='Test Form', mandatory=mandatory, disable=disable, hide=hide, check=check, max_width=400, tooltips=tooltips)\n",
    "form.display()\n",
    "form.set_values(test)"
   ]
  }
 ],
 "metadata": {
  "kernelspec": {
   "display_name": "base",
   "language": "python",
   "name": "python3"
  },
  "language_info": {
   "codemirror_mode": {
    "name": "ipython",
    "version": 3
   },
   "file_extension": ".py",
   "mimetype": "text/x-python",
   "name": "python",
   "nbconvert_exporter": "python",
   "pygments_lexer": "ipython3",
   "version": "3.7.13"
  }
 },
 "nbformat": 4,
 "nbformat_minor": 5
}
