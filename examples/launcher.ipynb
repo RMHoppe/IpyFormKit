{
 "cells": [
  {
   "cell_type": "code",
   "execution_count": null,
   "metadata": {},
   "outputs": [],
   "source": [
    "import sys\n",
    "import os\n",
    "\n",
    "# Path to the folder containing ipyformkit (one level up from examples/)\n",
    "project_root = os.path.abspath(\"..\")\n",
    "if project_root not in sys.path:\n",
    "    sys.path.insert(0, project_root)\n",
    "\n",
    "print(f\"Project root added to sys.path: {project_root}\")\n",
    "# Try importing now\n",
    "import ipyformkit as ifk"
   ]
  },
  {
   "cell_type": "code",
   "execution_count": 2,
   "metadata": {},
   "outputs": [],
   "source": [
    "params = {}\n",
    "hides = {}\n",
    "disables = {}\n",
    "checks = {}\n",
    "\n",
    "params['atmos_params'] = {\n",
    "    ('atmos_format', 'atmos_file'): (('Marcs', 'Stagger', 'Stagger2', 'Co5bold', 'Text'),\n",
    "                                    'input_multi3d/atmos/p5777_g+4.4_m0.0_t01_st_z+0.00_a+0.00_c+0.00_n+0.00_o+0.00_r+0.00_s+0.00.mod'),\n",
    "    ('vmic', 'FeH'): (-1.0, 0.0),\n",
    "    ('nx', 'ny', 'nz'): (1, 1, 128),\n",
    "    'advanced':{\n",
    "      'dims':8,\n",
    "      ('use_rho', 'use_ne'): (True, True),\n",
    "    }\n",
    "}\n",
    "hides['atmos_params'] = {\n",
    "  'nx': lambda d: d['atmos_format'] in ['Marcs', 'Text'],\n",
    "  'ny': lambda d: d['atmos_format'] in ['Marcs', 'Text'],\n",
    "}\n",
    "checks['atmos_params'] = {\n",
    "  'nx': lambda d: d['nx'] > -1,\n",
    "  'ny': lambda d: d['ny'] > -1,\n",
    "  'nz': lambda d: d['nz'] > 0,\n",
    "}\n",
    "\n",
    "params['atom_params'] = {\n",
    "    'atom_file': './input_multi3d/atoms/atom.ba06',\n",
    "    ('abundance', 'relative_abundance'): (2.11, False),\n",
    "    'advanced': {\n",
    "      ('convlim', 'convmax'): (1e-2, 1e-3),\n",
    "    }\n",
    "}\n",
    "\n",
    "fixed = ('disk_center', 'set_a2', 'set_a4', 'set_a6', 'set_a8', 'set_b4', 'set_b6', 'set_b8')\n",
    "\n",
    "params['m3d_params'] = {\n",
    "    ('maxiter', 'ng_step'): (99, -1),\n",
    "    'advanced': {\n",
    "      ('m1d_legacy_mode','decouple_continuum'): (False, True),\n",
    "      ('rotate_atmos', 'rotate_continuum'): (True, True),\n",
    "      ('short_scheme', 'short_ntheta', 'short_nphi'): (('radau', 'lobatto', 'gauss', *fixed), 2, 4),\n",
    "      ('long_scheme', 'long_ntheta', 'long_nphi', 'custom_mu'): (('radau', 'lobatto', 'gauss', 'custom', *fixed), 4, 4, '1.0 0.8 0.6 0.4 0.2'),\n",
    "    }\n",
    "}\n",
    "\n",
    "hides['m3d_params'] = {\n",
    "  'long_ntheta': lambda d: d['long_scheme'] in ['custom', *fixed],\n",
    "  'long_nphi': lambda d: d['long_scheme'] in ['custom', *fixed],\n",
    "  'short_ntheta': lambda d: d['short_scheme'] in fixed,\n",
    "  'short_nphi': lambda d: d['short_scheme'] in fixed,\n",
    "  'custom_mu': lambda d: d['long_scheme'] != 'custom',\n",
    "}\n",
    "\n",
    "params['composition_params'] = {\n",
    "    'abundance':'C=8.52, O=8.75, Ni=6.22',\n",
    "    'absmet_file': './input_multi3d/absmet',\n",
    "    'advanced': {\n",
    "      'abund_file': './input_multi3d/abund/abund_magg',\n",
    "    }\n",
    "}\n",
    "\n",
    "params['spectrum_params'] = {\n",
    "    ('aa_blue', 'aa_red', 'R'): (4200, 4300, 1e5),\n",
    "    'lam_file': './file_with_wavelengths.txt',\n",
    "}\n",
    "disables['spectrum_params'] = {\n",
    "    'aa_blue': lambda d: d['lam_file'] != '',\n",
    "    'aa_red': lambda d: d['lam_file'] != '',\n",
    "    'R': lambda d: d['lam_file'] != '',\n",
    "}"
   ]
  },
  {
   "cell_type": "code",
   "execution_count": null,
   "metadata": {},
   "outputs": [],
   "source": [
    "forms = []\n",
    "for key, p in params.items():\n",
    "  form = ifk.Form(p, title=key,\n",
    "                  hide=hides.get(key, None),\n",
    "                  check=checks.get(key, None),\n",
    "                  disable=disables.get(key, None),\n",
    "                  )\n",
    "  forms.append(form)\n",
    "\n",
    "wall = ifk.Masonry(forms)\n",
    "wall.display()"
   ]
  },
  {
   "cell_type": "code",
   "execution_count": null,
   "metadata": {},
   "outputs": [],
   "source": [
    "wall.forms[0].widgets_dict['atmos_file'].wid._get_matching_files('../examples/')"
   ]
  },
  {
   "cell_type": "code",
   "execution_count": null,
   "metadata": {},
   "outputs": [],
   "source": []
  }
 ],
 "metadata": {
  "kernelspec": {
   "display_name": "base",
   "language": "python",
   "name": "python3"
  },
  "language_info": {
   "codemirror_mode": {
    "name": "ipython",
    "version": 3
   },
   "file_extension": ".py",
   "mimetype": "text/x-python",
   "name": "python",
   "nbconvert_exporter": "python",
   "pygments_lexer": "ipython3",
   "version": "3.7.13"
  }
 },
 "nbformat": 4,
 "nbformat_minor": 4
}
