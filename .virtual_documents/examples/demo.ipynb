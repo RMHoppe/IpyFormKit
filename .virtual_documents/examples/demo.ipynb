import sys
import os

# Path to the folder containing ipyformkit (one level up from examples/)
project_root = os.path.abspath("..")
if project_root not in sys.path:
    sys.path.insert(0, project_root)

print(f"Project root added to sys.path: {project_root}")
# Try importing now
import ipyformkit as ifk


import ipywidgets as widgets
from IPython.display import display, HTML

test = ifk.FileAutocomplete()
display(test)


#=====================================================================
def create_widget(key, value):
    label = widgets.Label(value=key)
    label.add_class('widget-form-input-label')
    
    box = widgets.VBox([label])
    box.add_class('widget-form-input-box')
    
    if isinstance(value, bool):
        wid = widgets.Checkbox(value=value, description=key, indent=False)
        label.layout.height = '0px'
        box.add_class('reversed')
    elif isinstance(value, int):
        wid = widgets.IntText(value=value)
        box.layout.width = '100px'
    elif isinstance(value, float):
        wid = widgets.FloatText(value=value)
        box.layout.width = '100px'
    elif isinstance(value, str):
        if os.sep in value:
            wid = ifk.FileAutocomplete(placeholder=value)
        else:
            wid = widgets.Text(placeholder=value)
        box.layout.flex = '1'
    elif isinstance(value, list):
        if value:
            wid = widgets.Dropdown(options=value, value=value[0])
        else:
            wid = widgets.Label(value="(Empty list - no options)")
    else:
        wid = widgets.Label(value=f"Unsupported type: {type(value).__name__}")
    
    wid.add_class('widget-form-input')
    
    box.children = list(box.children) + [wid,]
    return box

#=====================================================================
def dict_to_form(input_dict, advanced=None, border=True, title=None):
    widgets_list = []
    widgets_dict = {}

    if title is not None:
        title_widget = widgets.Label(value=title)
        title_widget.add_class('widget-form-title')
        widgets_list.append(title_widget)

    for key, value in input_dict.items():
        # Case: nested tuple group
        if isinstance(key, tuple) and isinstance(value, tuple):
            hbox_items = []
            for sub_key, sub_val in zip(key, value):
                wid = create_widget(sub_key, sub_val)
                widgets_dict[sub_key] = wid.children[-1]
                hbox_items.append(wid)
            
            box = widgets.HBox(hbox_items)
            box.add_class('widget-form-hbox')
            widgets_list.append(box)

        else:
            wid = create_widget(key, value)
            widgets_dict[key] = wid.children[-1]
            widgets_list.append(wid)
        
    box = widgets.VBox(widgets_list)
    if border:
      box.add_class('widget-form')

    return box, widgets_dict


test = {'input 1':1, 'input 2':2.0, 'input 3':'test', 'input 4':True, 'input 5':(1,2), 'input 6':(1.0,2.0), 'input 7':'test/test.txt', 'input 8':['a','b','c']}

box, form = dict_to_form(test, title='Test Form', border=True)
display(box)


btn = widgets.Button()
btn
